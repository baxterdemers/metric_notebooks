{
 "cells": [
  {
   "cell_type": "markdown",
   "metadata": {},
   "source": [
    "# Applying Chi Square Test to NC Congressional Districts "
   ]
  },
  {
   "cell_type": "markdown",
   "metadata": {},
   "source": [
    "\n",
    "## Load Data"
   ]
  },
  {
   "cell_type": "code",
   "execution_count": 140,
   "metadata": {},
   "outputs": [],
   "source": [
    "import pandas as pd\n",
    "import matplotlib.pyplot as plt\n",
    "import numpy as np\n",
    "from scipy import stats\n",
    "\n",
    "df = pd.read_csv('data/congressional_election_results_post1948.csv')\n",
    "df['winner_vote_share'] = df['D Voteshare'].apply(lambda x: x if x > 0.5 else 1- x)"
   ]
  },
  {
   "cell_type": "markdown",
   "metadata": {},
   "source": [
    "Observed data: Winner's Vote Share in NC Congressional Districts after 2010 redraw\n",
    "\n",
    "\n",
    "Expected data: Winner's Vote Share in NC Congressional Districts before 2010 redraw"
   ]
  },
  {
   "cell_type": "code",
   "execution_count": 141,
   "metadata": {},
   "outputs": [],
   "source": [
    "observed_mask = (df.Year.isin(['2012','2014','2016', '2018'])) & (df.State == 'NC')\n",
    "expected_mask = (df.Year.isin(['2002','2004','2006', '2008', '2010'])) & (df.State == 'NC')"
   ]
  },
  {
   "cell_type": "markdown",
   "metadata": {},
   "source": [
    "## 2.35% bins"
   ]
  },
  {
   "cell_type": "markdown",
   "metadata": {},
   "source": [
    "#### Bin size rational"
   ]
  },
  {
   "cell_type": "code",
   "execution_count": 142,
   "metadata": {},
   "outputs": [
    {
     "name": "stdout",
     "output_type": "stream",
     "text": [
      "bins width:  0.023503461250500034\n"
     ]
    }
   ],
   "source": [
    "std_winner_vote_share = np.std(df[observed_mask].groupby('Year')['winner_vote_share'].mean())\n",
    "bin_width = std_winner_vote_share\n",
    "print('bins width: ', bin_width)"
   ]
  },
  {
   "cell_type": "markdown",
   "metadata": {},
   "source": [
    "#### Graphs and Tests"
   ]
  },
  {
   "cell_type": "code",
   "execution_count": 143,
   "metadata": {},
   "outputs": [
    {
     "data": {
      "text/plain": [
       "<matplotlib.legend.Legend at 0x102bac590>"
      ]
     },
     "execution_count": 143,
     "metadata": {},
     "output_type": "execute_result"
    },
    {
     "data": {
      "image/png": "[encoded data removed]",
      "text/plain": [
       "<Figure size 432x288 with 1 Axes>"
      ]
     },
     "metadata": {
      "needs_background": "light"
     },
     "output_type": "display_data"
    }
   ],
   "source": [
    "bins = [.5 + bin_width*idx for idx in range(int(np.ceil(.5/ bin_width)))]\n",
    "bins.append(1)\n",
    "\n",
    "observed_vote_shares = df[observed_mask]['winner_vote_share']\n",
    "observed_frequency, bins1 = np.histogram(observed_vote_shares, bins, density=True)\n",
    "expected_vote_shares = df[expected_mask]['winner_vote_share']\n",
    "expected_frequency, bins2 = np.histogram(expected_vote_shares, bins, density=True)\n",
    "\n",
    "fig, ax = plt.subplots()\n",
    "ax.hist(bins2[:-1], bins2, weights=(expected_frequency*bin_width), label='expected_frequency',  histtype='stepfilled', alpha=.5)\n",
    "ax.hist(bins1[:-1], bins1, weights=(observed_frequency*bin_width), label ='observed_frequency', histtype='stepfilled', alpha=.5)\n",
    "ax.legend()"
   ]
  },
  {
   "cell_type": "markdown",
   "metadata": {},
   "source": [
    "Chi-square test considering most contiguous bins where Observed and Expected are non-zero."
   ]
  },
  {
   "cell_type": "code",
   "execution_count": 144,
   "metadata": {},
   "outputs": [
    {
     "data": {
      "text/plain": [
       "Power_divergenceResult(statistic=44.68451228343471, pvalue=2.4790253105655745e-06)"
      ]
     },
     "execution_count": 144,
     "metadata": {},
     "output_type": "execute_result"
    }
   ],
   "source": [
    "stats.chisquare(observed_frequency[0:11], expected_frequency[0:11])"
   ]
  },
  {
   "cell_type": "markdown",
   "metadata": {},
   "source": [
    "Chi-square test considering just the first 4 bins"
   ]
  },
  {
   "cell_type": "code",
   "execution_count": 145,
   "metadata": {},
   "outputs": [
    {
     "data": {
      "text/plain": [
       "Power_divergenceResult(statistic=5.93243886758752, pvalue=0.11494388779134035)"
      ]
     },
     "execution_count": 145,
     "metadata": {},
     "output_type": "execute_result"
    }
   ],
   "source": [
    "stats.chisquare(observed_frequency[0:4], expected_frequency[0:4])"
   ]
  },
  {
   "cell_type": "markdown",
   "metadata": {},
   "source": [
    "## 4% bins"
   ]
  },
  {
   "cell_type": "markdown",
   "metadata": {},
   "source": [
    "Bin size Rational"
   ]
  },
  {
   "cell_type": "code",
   "execution_count": 148,
   "metadata": {},
   "outputs": [
    {
     "name": "stdout",
     "output_type": "stream",
     "text": [
      "bins width:  0.04015513189835897\n"
     ]
    }
   ],
   "source": [
    "std_winner_vote_share = np.std(df[observed_mask | expected_mask].groupby('Year')['D Voteshare'].mean())\n",
    "bin_width = std_winner_vote_share\n",
    "print('bins width: ', bin_width)"
   ]
  },
  {
   "cell_type": "code",
   "execution_count": 149,
   "metadata": {},
   "outputs": [
    {
     "data": {
      "text/plain": [
       "<matplotlib.legend.Legend at 0x11d528310>"
      ]
     },
     "execution_count": 149,
     "metadata": {},
     "output_type": "execute_result"
    },
    {
     "data": {
      "image/png": "[encoded data removed]",
      "text/plain": [
       "<Figure size 432x288 with 1 Axes>"
      ]
     },
     "metadata": {
      "needs_background": "light"
     },
     "output_type": "display_data"
    }
   ],
   "source": [
    "bins = [.5 + bin_width*idx for idx in range(int(np.ceil(.5/ bin_width)))]\n",
    "bins.append(1)\n",
    "\n",
    "observed_vote_shares = df[observed_mask]['winner_vote_share']\n",
    "observed_frequency, bins1 = np.histogram(observed_vote_shares, bins, density=True)\n",
    "expected_vote_shares = df[expected_mask]['winner_vote_share']\n",
    "expected_frequency, bins2 = np.histogram(expected_vote_shares, bins, density=True)\n",
    "\n",
    "fig, ax = plt.subplots()\n",
    "ax.hist(bins2[:-1], bins2, weights=(expected_frequency*bin_width), label='expected_frequency',  histtype='stepfilled', alpha=.5)\n",
    "ax.hist(bins1[:-1], bins1, weights=(observed_frequency*bin_width), label ='observed_frequency', histtype='stepfilled', alpha=.5)\n",
    "ax.legend()"
   ]
  },
  {
   "cell_type": "markdown",
   "metadata": {},
   "source": [
    "Chi-square test considering most contiguous bins where Observed and Expected are non-zero."
   ]
  },
  {
   "cell_type": "code",
   "execution_count": 150,
   "metadata": {},
   "outputs": [
    {
     "data": {
      "text/plain": [
       "Power_divergenceResult(statistic=24.20541089030487, pvalue=0.00047871395931947495)"
      ]
     },
     "execution_count": 150,
     "metadata": {},
     "output_type": "execute_result"
    }
   ],
   "source": [
    "stats.chisquare(observed_frequency[0:7], expected_frequency[0:7])"
   ]
  },
  {
   "cell_type": "markdown",
   "metadata": {},
   "source": [
    "Chi-square test considering just the first 4 bins"
   ]
  },
  {
   "cell_type": "code",
   "execution_count": 151,
   "metadata": {},
   "outputs": [
    {
     "data": {
      "text/plain": [
       "Power_divergenceResult(statistic=9.919103789161225, pvalue=0.01926644862943319)"
      ]
     },
     "execution_count": 151,
     "metadata": {},
     "output_type": "execute_result"
    }
   ],
   "source": [
    "stats.chisquare(observed_frequency[0:4], expected_frequency[0:4])"
   ]
  }
 ],
 "metadata": {
  "kernelspec": {
   "display_name": "Python 3",
   "language": "python",
   "name": "python3"
  },
  "language_info": {
   "codemirror_mode": {
    "name": "ipython",
    "version": 3
   },
   "file_extension": ".py",
   "mimetype": "text/x-python",
   "name": "python",
   "nbconvert_exporter": "python",
   "pygments_lexer": "ipython3",
   "version": "3.7.6"
  }
 },
 "nbformat": 4,
 "nbformat_minor": 4
}
